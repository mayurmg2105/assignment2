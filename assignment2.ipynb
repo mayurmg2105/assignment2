{
 "cells": [
  {
   "cell_type": "code",
   "execution_count": null,
   "id": "c895031c-89a8-4174-b3a9-d1429cc1617c",
   "metadata": {},
   "outputs": [],
   "source": [
    "#Q1. How do you comment code in Python? What are the different types of comments?\n",
    "#Type1\n",
    "'''Commnt'''"
   ]
  },
  {
   "cell_type": "code",
   "execution_count": null,
   "id": "60cbacd1-8a04-4f40-b7a0-0af880123a3e",
   "metadata": {},
   "outputs": [],
   "source": [
    "#Q2. What are variables in Python? How do you declare and assign values to variables?\n",
    "#variable is a name given to a memory location where a data value of a variable is stored in it\n",
    "a=10"
   ]
  },
  {
   "cell_type": "code",
   "execution_count": 17,
   "id": "c23383dc-96ab-45d4-a049-ce678f46bd99",
   "metadata": {},
   "outputs": [
    {
     "data": {
      "text/plain": [
       "int"
      ]
     },
     "execution_count": 17,
     "metadata": {},
     "output_type": "execute_result"
    }
   ],
   "source": [
    "#Q3. How do you convert one data type to another in Python?\n",
    "a='20'\n",
    "type(a)\n",
    "type(int(a))"
   ]
  },
  {
   "cell_type": "code",
   "execution_count": null,
   "id": "f8b1ac7e-01dd-4626-b811-58ad8a37a33e",
   "metadata": {},
   "outputs": [],
   "source": [
    "#Q4. How do you write and execute a Python script from the command line?\n",
    "#To run Python scripts with the python command, you need to open a command-line and type in the word python , \n",
    "#or python3 if you have both versions, followed by the path to your script, just like this: $ python3 hello.py\n",
    "#Hello World! If everything works okay, after you press Enter , you'll see the phrase Hello World!\n"
   ]
  },
  {
   "cell_type": "code",
   "execution_count": 18,
   "id": "18edefce-e43d-4444-b707-5ed7d91e5840",
   "metadata": {},
   "outputs": [
    {
     "data": {
      "text/plain": [
       "[2, 3]"
      ]
     },
     "execution_count": 18,
     "metadata": {},
     "output_type": "execute_result"
    }
   ],
   "source": [
    "\n",
    "#Q5. Given a list my_list = [1, 2, 3, 4, 5], write the code to slice the list and obtain the sub-list [2, 3].\n",
    "my_list = [1, 2, 3, 4, 5]\n",
    "my_list[1:3]"
   ]
  },
  {
   "cell_type": "code",
   "execution_count": 19,
   "id": "e2036f9e-8787-4893-b9bb-70b44659d241",
   "metadata": {},
   "outputs": [
    {
     "data": {
      "text/plain": [
       "complex"
      ]
     },
     "execution_count": 19,
     "metadata": {},
     "output_type": "execute_result"
    }
   ],
   "source": [
    "#Q6. What is a complex number in mathematics, and how is it represented in Python?\n",
    "#it has real number and imaginary number = 2+3j\n",
    "a=2+3j\n",
    "type(a)"
   ]
  },
  {
   "cell_type": "code",
   "execution_count": null,
   "id": "b3e8ecf7-5b95-463c-a363-48a895f8ec42",
   "metadata": {},
   "outputs": [],
   "source": [
    "#Q7. What is the correct way to declare a variable named age and assign the value 25 to it?\n",
    "age=25"
   ]
  },
  {
   "cell_type": "code",
   "execution_count": 22,
   "id": "4d4a5dba-feb7-4db1-b0a6-29932769de6e",
   "metadata": {},
   "outputs": [
    {
     "data": {
      "text/plain": [
       "float"
      ]
     },
     "execution_count": 22,
     "metadata": {},
     "output_type": "execute_result"
    }
   ],
   "source": [
    "#Q8. Declare a variable named price and assign the value 9.99 to it. What data type does this variable\n",
    "#belong to?\n",
    "price=9.99\n",
    "#float\n",
    "type(price)#Q8. Declare a variable named price and assign the value 9.99 to it. What data type does this variable\n",
    "#belong to?\n",
    "price=9.99\n",
    "#float\n",
    "type(price)"
   ]
  },
  {
   "cell_type": "code",
   "execution_count": 21,
   "id": "751159ea-9bb7-421e-9228-553b73273c4f",
   "metadata": {},
   "outputs": [
    {
     "name": "stdout",
     "output_type": "stream",
     "text": [
      "mayur gharte\n"
     ]
    }
   ],
   "source": [
    "#Q9. Create a variable named name and assign your full name to it as a string. How would you print the\n",
    "#value of this variable?\n",
    "name='mayur gharte'\n",
    "print(name)"
   ]
  },
  {
   "cell_type": "code",
   "execution_count": 23,
   "id": "42a1ceee-3c81-4a7f-99bc-2dd93e033a29",
   "metadata": {},
   "outputs": [
    {
     "data": {
      "text/plain": [
       "'o,worl'"
      ]
     },
     "execution_count": 23,
     "metadata": {},
     "output_type": "execute_result"
    }
   ],
   "source": [
    "#10.Given the string \"Hello, World!\", extract the substring \"World\".\n",
    "a='Hello,world'\n",
    "a[4:10]"
   ]
  },
  {
   "cell_type": "code",
   "execution_count": 24,
   "id": "6b4ee84c-3a4e-445d-a9d7-a52e43b79555",
   "metadata": {},
   "outputs": [
    {
     "ename": "SyntaxError",
     "evalue": "invalid syntax (3895174488.py, line 15)",
     "output_type": "error",
     "traceback": [
      "\u001b[0;36m  Cell \u001b[0;32mIn[24], line 15\u001b[0;36m\u001b[0m\n\u001b[0;31m    are you a student: yes\u001b[0m\n\u001b[0m        ^\u001b[0m\n\u001b[0;31mSyntaxError\u001b[0m\u001b[0;31m:\u001b[0m invalid syntax\n"
     ]
    }
   ],
   "source": [
    "#Q11. Create a variable named \"is_student\" and assign it a boolean value indicating whether you are\n",
    "#currently a student or not.\n",
    "\n",
    "is_student=True\n",
    "if is_student==True:\n",
    "     print(\"i am a student\")\n",
    "else:\n",
    "    print(\"i am not a student\")\n",
    "#or\n",
    "is_student=input('are you a student')\n",
    "if is_student=='yes':\n",
    "    print(True)\n",
    "else:\n",
    "    print(False)\n",
    "are you a student: yes\n",
    "True\n",
    "\n",
    "#or\n",
    "  \n",
    "is_student=True"
   ]
  },
  {
   "cell_type": "code",
   "execution_count": null,
   "id": "2512b381-ebc2-460a-94e2-8b695510a4c3",
   "metadata": {},
   "outputs": [],
   "source": []
  }
 ],
 "metadata": {
  "kernelspec": {
   "display_name": "Python 3 (ipykernel)",
   "language": "python",
   "name": "python3"
  },
  "language_info": {
   "codemirror_mode": {
    "name": "ipython",
    "version": 3
   },
   "file_extension": ".py",
   "mimetype": "text/x-python",
   "name": "python",
   "nbconvert_exporter": "python",
   "pygments_lexer": "ipython3",
   "version": "3.10.8"
  }
 },
 "nbformat": 4,
 "nbformat_minor": 5
}
